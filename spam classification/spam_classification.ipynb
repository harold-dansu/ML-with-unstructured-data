{
  "nbformat": 4,
  "nbformat_minor": 0,
  "metadata": {
    "colab": {
      "provenance": []
    },
    "kernelspec": {
      "name": "python3",
      "display_name": "Python 3"
    },
    "accelerator": "GPU"
  },
  "cells": [
    {
      "metadata": {
        "id": "Rr28LaPDo-wF"
      },
      "cell_type": "markdown",
      "source": [
        "# Email spam classification"
      ]
    },
    {
      "metadata": {
        "id": "4icoKwa7o-wI"
      },
      "cell_type": "markdown",
      "source": [
        "### (a) Count of the number of ham and spam emails"
      ]
    },
    {
      "metadata": {
        "id": "NlJo0VyHpzZS",
        "outputId": "a72c7a6e-040d-41d4-f0d6-c81f355e585f",
        "colab": {
          "base_uri": "https://localhost:8080/",
          "height": 123
        }
      },
      "cell_type": "code",
      "source": [
        "## Load Google Drive\n",
        "\n",
        "# Load the Drive helper and mount\n",
        "from google.colab import drive\n",
        "\n",
        "# This will prompt for authorization.\n",
        "drive.mount('/content/drive')"
      ],
      "execution_count": null,
      "outputs": [
        {
          "output_type": "stream",
          "text": [
            "Go to this URL in a browser: https://accounts.google.com/o/oauth2/auth?client_id=947318989803-6bn6qk8qdgf4n4g3pfee6491hc0brc4i.apps.googleusercontent.com&redirect_uri=urn%3Aietf%3Awg%3Aoauth%3A2.0%3Aoob&scope=email%20https%3A%2F%2Fwww.googleapis.com%2Fauth%2Fdocs.test%20https%3A%2F%2Fwww.googleapis.com%2Fauth%2Fdrive%20https%3A%2F%2Fwww.googleapis.com%2Fauth%2Fdrive.photos.readonly%20https%3A%2F%2Fwww.googleapis.com%2Fauth%2Fpeopleapi.readonly&response_type=code\n",
            "\n",
            "Enter your authorization code:\n",
            "··········\n",
            "Mounted at /content/drive\n"
          ],
          "name": "stdout"
        }
      ]
    },
    {
      "metadata": {
        "id": "rtNB1Kstt3IA"
      },
      "cell_type": "code",
      "source": [
        "\n",
        "import glob\n",
        "\n",
        "ham_folder = glob.glob('/content/drive/My Drive/95865 Unstructured Data Analytics/HW3/email-data/ham/*.txt')\n",
        "spam_folder = glob.glob('/content/drive/My Drive/95865 Unstructured Data Analytics/HW3/email-data/spam/*.txt')\n"
      ],
      "execution_count": null,
      "outputs": []
    },
    {
      "metadata": {
        "id": "z913jJHpvx-S",
        "outputId": "7c01a8cc-6412-4092-bff8-59457675ec18",
        "colab": {
          "base_uri": "https://localhost:8080/",
          "height": 51
        }
      },
      "cell_type": "code",
      "source": [
        "# construct a list of documents\n",
        "spam_list = []\n",
        "ham_list = []\n",
        "\n",
        "for file in ham_folder:\n",
        "  ham_list.append(file)\n",
        "\n",
        "for file in spam_folder:\n",
        "  spam_list.append(file)\n",
        "\n",
        "print(\"Number of spam emails: \" + str(len(spam_list)))\n",
        "print(\"Number of ham emails: \" + str(len(ham_list)))"
      ],
      "execution_count": null,
      "outputs": [
        {
          "output_type": "stream",
          "text": [
            "Number of spam emails: 3671\n",
            "Number of ham emails: 1500\n"
          ],
          "name": "stdout"
        }
      ]
    },
    {
      "metadata": {
        "id": "hXyniTmRzQwx"
      },
      "cell_type": "markdown",
      "source": [
        "**Dataset is imbalanced. There are more spam emails than ham emails (~2.5 : 1 ratio)**\n",
        "In training the model it could be problematic in that the fitted classifier will be more naive and predict the majority class more often.\n",
        "\n",
        "** One option to correct this imbalance, subsample randomly from the ham emails so as to have equal numbers of ham and spam emails in the training dataset**"
      ]
    },
    {
      "metadata": {
        "id": "UtDRqg5Po-wO"
      },
      "cell_type": "markdown",
      "source": [
        "### (b) Construct the documents [4 points]\n",
        "\n",
        "   - Provided below is a function that returns a document present in a file given a fileName.\n",
        "   - The function performs some preprocessing to (1) remove punctuation, (2),(3) remove whitespace and (4) lowercase all words.\n",
        "   - Use this function to construct a list of documents.\n",
        "   - Also construct a list of document labels containing `1` for spam and `0` for ham."
      ]
    },
    {
      "metadata": {
        "id": "6V_IwQtTo-wQ"
      },
      "cell_type": "code",
      "source": [
        "import re\n",
        "import string\n",
        "import codecs\n",
        "\n",
        "def makeWordList(path):\n",
        "\n",
        "    with codecs.open(path, \"r\", encoding='utf-8', errors='ignore') as f:\n",
        "        corpus_text = f.read()\n",
        "\n",
        "    for c in string.punctuation:\n",
        "        corpus_text = corpus_text.replace(c, \"\")  # -- (1)\n",
        "\n",
        "    text = re.sub(r'\\S*\\d\\S*','',corpus_text) # -- (2)\n",
        "    text = re.sub(r'[^\\w\\s]','',text)         # -- (3)\n",
        "\n",
        "    text = text.lower().split()           # -- (4)\n",
        "\n",
        "    li = []\n",
        "    for token in text:\n",
        "        li.append(token)\n",
        "\n",
        "    return \" \".join(li)"
      ],
      "execution_count": null,
      "outputs": []
    },
    {
      "metadata": {
        "id": "GUdmSPCPo-wU"
      },
      "cell_type": "code",
      "source": [
        "## construct list of documents\n",
        "# construct a list of document labels containing 1 for spam and 0 for ham.\n",
        "\n",
        "list_of_processed_documents = []\n",
        "train_labels = []\n",
        "\n",
        "for file in spam_folder:\n",
        "  processed_file = makeWordList(file)\n",
        "  list_of_processed_documents.append(processed_file)\n",
        "  train_labels.append(1)\n",
        "\n",
        "for file in ham_folder:\n",
        "  processed_file = makeWordList(file)\n",
        "  list_of_processed_documents.append(processed_file)\n",
        "  train_labels.append(0)"
      ],
      "execution_count": null,
      "outputs": []
    },
    {
      "metadata": {
        "id": "-32w2d4NHtSb",
        "outputId": "9bc62cc0-af6b-4390-b0eb-07cffdb058f5",
        "colab": {
          "base_uri": "https://localhost:8080/",
          "height": 51
        }
      },
      "cell_type": "code",
      "source": [
        "# check that 5171 files loaded\n",
        "print(len(list_of_processed_documents))\n",
        "\n",
        "# check that 5171 labels created\n",
        "print(len(train_labels))"
      ],
      "execution_count": null,
      "outputs": [
        {
          "output_type": "stream",
          "text": [
            "5171\n",
            "5171\n"
          ],
          "name": "stdout"
        }
      ]
    },
    {
      "metadata": {
        "id": "jNGD2qkSGjrm"
      },
      "cell_type": "code",
      "source": [
        "train_labels = np.asarray(train_labels)"
      ],
      "execution_count": null,
      "outputs": []
    },
    {
      "metadata": {
        "id": "Ij7qrsItGC-S",
        "outputId": "22a7ff6e-ad52-4429-a66c-a1c85128d108",
        "colab": {
          "base_uri": "https://localhost:8080/",
          "height": 34
        }
      },
      "cell_type": "code",
      "source": [
        "#num_train_docs = X.shape[0]\n",
        "#train_labels = list_of_labels\n",
        "#len(train_labels)\n",
        "train_labels.shape"
      ],
      "execution_count": null,
      "outputs": [
        {
          "output_type": "execute_result",
          "data": {
            "text/plain": [
              "(5171,)"
            ]
          },
          "metadata": {
            "tags": []
          },
          "execution_count": 28
        }
      ]
    },
    {
      "metadata": {
        "id": "5FthICBao-wZ"
      },
      "cell_type": "markdown",
      "source": [
        "### (c) Construct the document matrix `X` as a matrix of word frequencies [5 points]\n",
        "\n",
        "   - Use the `CountVectorizer` from scikit-learn.\n",
        "   - Set `min_df=50`; this drops words that don't occur in at least 50 documents.\n",
        "   - Set `stop_words=\"english\"` and `max_df=0.8` to filter out stop-words.\n",
        "   - Print the size of the vocabulary (number of unique words)"
      ]
    },
    {
      "metadata": {
        "id": "86EkfSopo-wb",
        "outputId": "6592edb2-b8ab-4adf-ffc9-dab4db08dee1",
        "colab": {
          "base_uri": "https://localhost:8080/",
          "height": 34
        }
      },
      "cell_type": "code",
      "source": [
        "# create document matrix X\n",
        "\n",
        "from sklearn.feature_extraction.text import CountVectorizer\n",
        "\n",
        "vectorizer = CountVectorizer(stop_words=\"english\", max_df=0.8, min_df=50)\n",
        "\n",
        "\n",
        "X = vectorizer.fit_transform(list_of_processed_documents)\n",
        "\n",
        "print(X.shape)\n"
      ],
      "execution_count": null,
      "outputs": [
        {
          "output_type": "stream",
          "text": [
            "(5171, 1680)\n"
          ],
          "name": "stdout"
        }
      ]
    },
    {
      "metadata": {
        "id": "Sus2Prauo-wf"
      },
      "cell_type": "markdown",
      "source": [
        "### (d) k-NN, SVM, random forest: Hyperparameter selection [20 points]\n",
        "\n",
        "Now that you have your documents and labels as training data, you can perform 5-fold cross-validation to select the hyperparameters for different learning algorithms.\n",
        "\n",
        "The hyperparameter with the best performance averaged across 5 folds is chosen. Use the **weighted F1-score** as the evaluation metric (i.e., for the `f1_score` function imported from `sklearn.metrics`, be sure to use the parameter `average='weighted'`).\n",
        "\n",
        "   - k-NN: Select `k` from a range of values of your choice.\n",
        "   - SVM: (SVC) Select `C` from a range of your choice, use any kernel that performs well.\n",
        "   - Random forest: Select `n_estimators` **and** `max_depth` from a grid of your choice.\n",
        "\n",
        "Store each chosen hyperparameter as `best_k`, `best_C`, `best_n_estimators`, and `best_max_depth` respectively.\n",
        "\n",
        "Provided is some seed code for cross-validation that you may modify and reuse. Do not use the cross-validations score or grid-search functions from scikit-learn (you may use `KFold`)."
      ]
    },
    {
      "metadata": {
        "id": "Pev0i5QlQBMW"
      },
      "cell_type": "code",
      "source": [
        "from sklearn.neighbors import KNeighborsClassifier\n",
        "from sklearn.model_selection import KFold\n",
        "from sklearn.metrics import f1_score\n",
        "import numpy as np"
      ],
      "execution_count": null,
      "outputs": []
    },
    {
      "metadata": {
        "id": "-xXRO72RTPDg",
        "colab": {
          "base_uri": "https://localhost:8080/",
          "height": 34
        },
        "outputId": "745ce3dd-8a5a-42d2-a6b5-1210473fd68e"
      },
      "cell_type": "code",
      "source": [
        "X_train = X.toarray()\n",
        "X_train.shape"
      ],
      "execution_count": null,
      "outputs": [
        {
          "output_type": "execute_result",
          "data": {
            "text/plain": [
              "(5171, 1680)"
            ]
          },
          "metadata": {
            "tags": []
          },
          "execution_count": 29
        }
      ]
    },
    {
      "metadata": {
        "id": "vfH_RXmAJvfa",
        "outputId": "23c712e5-af76-4862-8eb1-78df8f8c077a",
        "colab": {
          "base_uri": "https://localhost:8080/",
          "height": 653
        }
      },
      "cell_type": "code",
      "source": [
        "## KNN Hyperparameter selection\n",
        "\n",
        "num_folds = 5\n",
        "k_fold = KFold(num_folds, random_state = 0)\n",
        "hyperparameter_settings = [2,5,10,50]\n",
        "best_k = None\n",
        "#best_f1_score = -np.inf\n",
        "lowest_cross_val_error = -np.inf\n",
        "\n",
        "for k in hyperparameter_settings:\n",
        "  fold_scores=[]\n",
        "  #for k,(train_indices,val_indices) in enumerate(k_fold.split(X_train,train_labels)):\n",
        "  for train_indices,val_indices in k_fold.split(X_train,train_labels):\n",
        "    classifier = KNeighborsClassifier(n_neighbors=k)\n",
        "    #print(type(train_labels))\n",
        "    classifier.fit(X_train[train_indices], train_labels[train_indices])\n",
        "    predicted_val_labels = classifier.predict(X_train[val_indices])\n",
        "    f1 = f1_score(train_labels[val_indices], predicted_val_labels, average='weighted')\n",
        "    fold_scores.append(f1)\n",
        "\n",
        "  cross_val_error = np.mean(fold_scores)\n",
        "  print('k:', k, 'cross validation error:', cross_val_error)\n",
        "\n",
        "  #if cross_val_error < lowest_cross_val_error:\n",
        "  if cross_val_error > lowest_cross_val_error:\n",
        "    lowest_cross_val_error = cross_val_error\n",
        "    best_k = k\n",
        "\n",
        "print('Best k:', best_k, 'cross validation error:', lowest_cross_val_error)"
      ],
      "execution_count": null,
      "outputs": [
        {
          "output_type": "stream",
          "text": [
            "/usr/local/lib/python3.6/dist-packages/sklearn/metrics/classification.py:1145: UndefinedMetricWarning: F-score is ill-defined and being set to 0.0 in labels with no true samples.\n",
            "  'recall', 'true', average, warn_for)\n",
            "/usr/local/lib/python3.6/dist-packages/sklearn/metrics/classification.py:1145: UndefinedMetricWarning: F-score is ill-defined and being set to 0.0 in labels with no true samples.\n",
            "  'recall', 'true', average, warn_for)\n",
            "/usr/local/lib/python3.6/dist-packages/sklearn/metrics/classification.py:1145: UndefinedMetricWarning: F-score is ill-defined and being set to 0.0 in labels with no true samples.\n",
            "  'recall', 'true', average, warn_for)\n",
            "/usr/local/lib/python3.6/dist-packages/sklearn/metrics/classification.py:1145: UndefinedMetricWarning: F-score is ill-defined and being set to 0.0 in labels with no true samples.\n",
            "  'recall', 'true', average, warn_for)\n"
          ],
          "name": "stderr"
        },
        {
          "output_type": "stream",
          "text": [
            "k: 2 cross validation error: 0.9297496682936591\n"
          ],
          "name": "stdout"
        },
        {
          "output_type": "stream",
          "text": [
            "/usr/local/lib/python3.6/dist-packages/sklearn/metrics/classification.py:1145: UndefinedMetricWarning: F-score is ill-defined and being set to 0.0 in labels with no true samples.\n",
            "  'recall', 'true', average, warn_for)\n",
            "/usr/local/lib/python3.6/dist-packages/sklearn/metrics/classification.py:1145: UndefinedMetricWarning: F-score is ill-defined and being set to 0.0 in labels with no true samples.\n",
            "  'recall', 'true', average, warn_for)\n",
            "/usr/local/lib/python3.6/dist-packages/sklearn/metrics/classification.py:1145: UndefinedMetricWarning: F-score is ill-defined and being set to 0.0 in labels with no true samples.\n",
            "  'recall', 'true', average, warn_for)\n",
            "/usr/local/lib/python3.6/dist-packages/sklearn/metrics/classification.py:1145: UndefinedMetricWarning: F-score is ill-defined and being set to 0.0 in labels with no true samples.\n",
            "  'recall', 'true', average, warn_for)\n"
          ],
          "name": "stderr"
        },
        {
          "output_type": "stream",
          "text": [
            "k: 5 cross validation error: 0.904168252173792\n"
          ],
          "name": "stdout"
        },
        {
          "output_type": "stream",
          "text": [
            "/usr/local/lib/python3.6/dist-packages/sklearn/metrics/classification.py:1145: UndefinedMetricWarning: F-score is ill-defined and being set to 0.0 in labels with no true samples.\n",
            "  'recall', 'true', average, warn_for)\n",
            "/usr/local/lib/python3.6/dist-packages/sklearn/metrics/classification.py:1145: UndefinedMetricWarning: F-score is ill-defined and being set to 0.0 in labels with no true samples.\n",
            "  'recall', 'true', average, warn_for)\n",
            "/usr/local/lib/python3.6/dist-packages/sklearn/metrics/classification.py:1145: UndefinedMetricWarning: F-score is ill-defined and being set to 0.0 in labels with no true samples.\n",
            "  'recall', 'true', average, warn_for)\n",
            "/usr/local/lib/python3.6/dist-packages/sklearn/metrics/classification.py:1145: UndefinedMetricWarning: F-score is ill-defined and being set to 0.0 in labels with no true samples.\n",
            "  'recall', 'true', average, warn_for)\n"
          ],
          "name": "stderr"
        },
        {
          "output_type": "stream",
          "text": [
            "k: 10 cross validation error: 0.8858488652956898\n"
          ],
          "name": "stdout"
        },
        {
          "output_type": "stream",
          "text": [
            "/usr/local/lib/python3.6/dist-packages/sklearn/metrics/classification.py:1145: UndefinedMetricWarning: F-score is ill-defined and being set to 0.0 in labels with no true samples.\n",
            "  'recall', 'true', average, warn_for)\n",
            "/usr/local/lib/python3.6/dist-packages/sklearn/metrics/classification.py:1145: UndefinedMetricWarning: F-score is ill-defined and being set to 0.0 in labels with no true samples.\n",
            "  'recall', 'true', average, warn_for)\n",
            "/usr/local/lib/python3.6/dist-packages/sklearn/metrics/classification.py:1145: UndefinedMetricWarning: F-score is ill-defined and being set to 0.0 in labels with no true samples.\n",
            "  'recall', 'true', average, warn_for)\n"
          ],
          "name": "stderr"
        },
        {
          "output_type": "stream",
          "text": [
            "k: 50 cross validation error: 0.8230141086405298\n",
            "Best k: 2 cross validation error: 0.9297496682936591\n"
          ],
          "name": "stdout"
        },
        {
          "output_type": "stream",
          "text": [
            "/usr/local/lib/python3.6/dist-packages/sklearn/metrics/classification.py:1145: UndefinedMetricWarning: F-score is ill-defined and being set to 0.0 in labels with no true samples.\n",
            "  'recall', 'true', average, warn_for)\n"
          ],
          "name": "stderr"
        }
      ]
    },
    {
      "metadata": {
        "id": "rD8oHbtoWPtD",
        "outputId": "0ceb06bd-e457-47f4-cc6e-c0c8b2aa99d5",
        "colab": {
          "base_uri": "https://localhost:8080/",
          "height": 1516
        }
      },
      "cell_type": "code",
      "source": [
        "## SVM hyperparameter selection\n",
        "from sklearn import svm\n",
        "\n",
        "num_folds = 5\n",
        "k_fold = KFold(num_folds, random_state = 0)\n",
        "hyperparameter_settings = np.logspace(-4, 2, 5)\n",
        "best_C = None\n",
        "\n",
        "lowest_cross_val_error = -np.inf\n",
        "\n",
        "for C in hyperparameter_settings:\n",
        "  fold_scores=[]\n",
        "  #for k,(train_indices,val_indices) in enumerate(k_fold.split(X_train,train_labels)):\n",
        "  for train_indices, val_indices in k_fold.split(X_train,train_labels):\n",
        "    classifier = svm.SVC(C=C, kernel='rbf')\n",
        "    #print(type(train_labels))\n",
        "    classifier.fit(X_train[train_indices], train_labels[train_indices])\n",
        "    predicted_val_labels = classifier.predict(X_train[val_indices])\n",
        "    f1 = f1_score(train_labels[val_indices], predicted_val_labels, average='weighted')\n",
        "    fold_scores.append(f1)\n",
        "\n",
        "  cross_val_error = np.mean(fold_scores)\n",
        "  print('C:', C, 'cross validation error:', cross_val_error)\n",
        "\n",
        "  #if cross_val_error < lowest_cross_val_error:\n",
        "  if cross_val_error > lowest_cross_val_error:\n",
        "    lowest_cross_val_error = cross_val_error\n",
        "    best_C = C\n",
        "\n",
        "print('Best C:', best_C)"
      ],
      "execution_count": null,
      "outputs": [
        {
          "output_type": "stream",
          "text": [
            "/usr/local/lib/python3.6/dist-packages/sklearn/svm/base.py:196: FutureWarning: The default value of gamma will change from 'auto' to 'scale' in version 0.22 to account better for unscaled features. Set gamma explicitly to 'auto' or 'scale' to avoid this warning.\n",
            "  \"avoid this warning.\", FutureWarning)\n",
            "/usr/local/lib/python3.6/dist-packages/sklearn/svm/base.py:196: FutureWarning: The default value of gamma will change from 'auto' to 'scale' in version 0.22 to account better for unscaled features. Set gamma explicitly to 'auto' or 'scale' to avoid this warning.\n",
            "  \"avoid this warning.\", FutureWarning)\n",
            "/usr/local/lib/python3.6/dist-packages/sklearn/svm/base.py:196: FutureWarning: The default value of gamma will change from 'auto' to 'scale' in version 0.22 to account better for unscaled features. Set gamma explicitly to 'auto' or 'scale' to avoid this warning.\n",
            "  \"avoid this warning.\", FutureWarning)\n",
            "/usr/local/lib/python3.6/dist-packages/sklearn/svm/base.py:196: FutureWarning: The default value of gamma will change from 'auto' to 'scale' in version 0.22 to account better for unscaled features. Set gamma explicitly to 'auto' or 'scale' to avoid this warning.\n",
            "  \"avoid this warning.\", FutureWarning)\n",
            "/usr/local/lib/python3.6/dist-packages/sklearn/metrics/classification.py:1143: UndefinedMetricWarning: F-score is ill-defined and being set to 0.0 in labels with no predicted samples.\n",
            "  'precision', 'predicted', average, warn_for)\n",
            "/usr/local/lib/python3.6/dist-packages/sklearn/svm/base.py:196: FutureWarning: The default value of gamma will change from 'auto' to 'scale' in version 0.22 to account better for unscaled features. Set gamma explicitly to 'auto' or 'scale' to avoid this warning.\n",
            "  \"avoid this warning.\", FutureWarning)\n",
            "/usr/local/lib/python3.6/dist-packages/sklearn/metrics/classification.py:1143: UndefinedMetricWarning: F-score is ill-defined and being set to 0.0 in labels with no predicted samples.\n",
            "  'precision', 'predicted', average, warn_for)\n",
            "/usr/local/lib/python3.6/dist-packages/sklearn/metrics/classification.py:1145: UndefinedMetricWarning: F-score is ill-defined and being set to 0.0 in labels with no true samples.\n",
            "  'recall', 'true', average, warn_for)\n",
            "/usr/local/lib/python3.6/dist-packages/sklearn/svm/base.py:196: FutureWarning: The default value of gamma will change from 'auto' to 'scale' in version 0.22 to account better for unscaled features. Set gamma explicitly to 'auto' or 'scale' to avoid this warning.\n",
            "  \"avoid this warning.\", FutureWarning)\n"
          ],
          "name": "stderr"
        },
        {
          "output_type": "stream",
          "text": [
            "C: 0.0001 cross validation error: 0.677906485365247\n"
          ],
          "name": "stdout"
        },
        {
          "output_type": "stream",
          "text": [
            "/usr/local/lib/python3.6/dist-packages/sklearn/svm/base.py:196: FutureWarning: The default value of gamma will change from 'auto' to 'scale' in version 0.22 to account better for unscaled features. Set gamma explicitly to 'auto' or 'scale' to avoid this warning.\n",
            "  \"avoid this warning.\", FutureWarning)\n",
            "/usr/local/lib/python3.6/dist-packages/sklearn/svm/base.py:196: FutureWarning: The default value of gamma will change from 'auto' to 'scale' in version 0.22 to account better for unscaled features. Set gamma explicitly to 'auto' or 'scale' to avoid this warning.\n",
            "  \"avoid this warning.\", FutureWarning)\n",
            "/usr/local/lib/python3.6/dist-packages/sklearn/svm/base.py:196: FutureWarning: The default value of gamma will change from 'auto' to 'scale' in version 0.22 to account better for unscaled features. Set gamma explicitly to 'auto' or 'scale' to avoid this warning.\n",
            "  \"avoid this warning.\", FutureWarning)\n",
            "/usr/local/lib/python3.6/dist-packages/sklearn/metrics/classification.py:1143: UndefinedMetricWarning: F-score is ill-defined and being set to 0.0 in labels with no predicted samples.\n",
            "  'precision', 'predicted', average, warn_for)\n",
            "/usr/local/lib/python3.6/dist-packages/sklearn/svm/base.py:196: FutureWarning: The default value of gamma will change from 'auto' to 'scale' in version 0.22 to account better for unscaled features. Set gamma explicitly to 'auto' or 'scale' to avoid this warning.\n",
            "  \"avoid this warning.\", FutureWarning)\n",
            "/usr/local/lib/python3.6/dist-packages/sklearn/metrics/classification.py:1143: UndefinedMetricWarning: F-score is ill-defined and being set to 0.0 in labels with no predicted samples.\n",
            "  'precision', 'predicted', average, warn_for)\n",
            "/usr/local/lib/python3.6/dist-packages/sklearn/metrics/classification.py:1145: UndefinedMetricWarning: F-score is ill-defined and being set to 0.0 in labels with no true samples.\n",
            "  'recall', 'true', average, warn_for)\n",
            "/usr/local/lib/python3.6/dist-packages/sklearn/svm/base.py:196: FutureWarning: The default value of gamma will change from 'auto' to 'scale' in version 0.22 to account better for unscaled features. Set gamma explicitly to 'auto' or 'scale' to avoid this warning.\n",
            "  \"avoid this warning.\", FutureWarning)\n"
          ],
          "name": "stderr"
        },
        {
          "output_type": "stream",
          "text": [
            "C: 0.0031622776601683794 cross validation error: 0.677906485365247\n"
          ],
          "name": "stdout"
        },
        {
          "output_type": "stream",
          "text": [
            "/usr/local/lib/python3.6/dist-packages/sklearn/svm/base.py:196: FutureWarning: The default value of gamma will change from 'auto' to 'scale' in version 0.22 to account better for unscaled features. Set gamma explicitly to 'auto' or 'scale' to avoid this warning.\n",
            "  \"avoid this warning.\", FutureWarning)\n",
            "/usr/local/lib/python3.6/dist-packages/sklearn/svm/base.py:196: FutureWarning: The default value of gamma will change from 'auto' to 'scale' in version 0.22 to account better for unscaled features. Set gamma explicitly to 'auto' or 'scale' to avoid this warning.\n",
            "  \"avoid this warning.\", FutureWarning)\n",
            "/usr/local/lib/python3.6/dist-packages/sklearn/metrics/classification.py:1145: UndefinedMetricWarning: F-score is ill-defined and being set to 0.0 in labels with no true samples.\n",
            "  'recall', 'true', average, warn_for)\n",
            "/usr/local/lib/python3.6/dist-packages/sklearn/svm/base.py:196: FutureWarning: The default value of gamma will change from 'auto' to 'scale' in version 0.22 to account better for unscaled features. Set gamma explicitly to 'auto' or 'scale' to avoid this warning.\n",
            "  \"avoid this warning.\", FutureWarning)\n",
            "/usr/local/lib/python3.6/dist-packages/sklearn/svm/base.py:196: FutureWarning: The default value of gamma will change from 'auto' to 'scale' in version 0.22 to account better for unscaled features. Set gamma explicitly to 'auto' or 'scale' to avoid this warning.\n",
            "  \"avoid this warning.\", FutureWarning)\n",
            "/usr/local/lib/python3.6/dist-packages/sklearn/metrics/classification.py:1145: UndefinedMetricWarning: F-score is ill-defined and being set to 0.0 in labels with no true samples.\n",
            "  'recall', 'true', average, warn_for)\n",
            "/usr/local/lib/python3.6/dist-packages/sklearn/svm/base.py:196: FutureWarning: The default value of gamma will change from 'auto' to 'scale' in version 0.22 to account better for unscaled features. Set gamma explicitly to 'auto' or 'scale' to avoid this warning.\n",
            "  \"avoid this warning.\", FutureWarning)\n"
          ],
          "name": "stderr"
        },
        {
          "output_type": "stream",
          "text": [
            "C: 0.1 cross validation error: 0.7948286395415046\n"
          ],
          "name": "stdout"
        },
        {
          "output_type": "stream",
          "text": [
            "/usr/local/lib/python3.6/dist-packages/sklearn/metrics/classification.py:1145: UndefinedMetricWarning: F-score is ill-defined and being set to 0.0 in labels with no true samples.\n",
            "  'recall', 'true', average, warn_for)\n",
            "/usr/local/lib/python3.6/dist-packages/sklearn/svm/base.py:196: FutureWarning: The default value of gamma will change from 'auto' to 'scale' in version 0.22 to account better for unscaled features. Set gamma explicitly to 'auto' or 'scale' to avoid this warning.\n",
            "  \"avoid this warning.\", FutureWarning)\n",
            "/usr/local/lib/python3.6/dist-packages/sklearn/svm/base.py:196: FutureWarning: The default value of gamma will change from 'auto' to 'scale' in version 0.22 to account better for unscaled features. Set gamma explicitly to 'auto' or 'scale' to avoid this warning.\n",
            "  \"avoid this warning.\", FutureWarning)\n",
            "/usr/local/lib/python3.6/dist-packages/sklearn/metrics/classification.py:1145: UndefinedMetricWarning: F-score is ill-defined and being set to 0.0 in labels with no true samples.\n",
            "  'recall', 'true', average, warn_for)\n",
            "/usr/local/lib/python3.6/dist-packages/sklearn/svm/base.py:196: FutureWarning: The default value of gamma will change from 'auto' to 'scale' in version 0.22 to account better for unscaled features. Set gamma explicitly to 'auto' or 'scale' to avoid this warning.\n",
            "  \"avoid this warning.\", FutureWarning)\n",
            "/usr/local/lib/python3.6/dist-packages/sklearn/svm/base.py:196: FutureWarning: The default value of gamma will change from 'auto' to 'scale' in version 0.22 to account better for unscaled features. Set gamma explicitly to 'auto' or 'scale' to avoid this warning.\n",
            "  \"avoid this warning.\", FutureWarning)\n",
            "/usr/local/lib/python3.6/dist-packages/sklearn/metrics/classification.py:1145: UndefinedMetricWarning: F-score is ill-defined and being set to 0.0 in labels with no true samples.\n",
            "  'recall', 'true', average, warn_for)\n",
            "/usr/local/lib/python3.6/dist-packages/sklearn/svm/base.py:196: FutureWarning: The default value of gamma will change from 'auto' to 'scale' in version 0.22 to account better for unscaled features. Set gamma explicitly to 'auto' or 'scale' to avoid this warning.\n",
            "  \"avoid this warning.\", FutureWarning)\n"
          ],
          "name": "stderr"
        },
        {
          "output_type": "stream",
          "text": [
            "C: 3.1622776601683795 cross validation error: 0.939872950763521\n"
          ],
          "name": "stdout"
        },
        {
          "output_type": "stream",
          "text": [
            "/usr/local/lib/python3.6/dist-packages/sklearn/metrics/classification.py:1145: UndefinedMetricWarning: F-score is ill-defined and being set to 0.0 in labels with no true samples.\n",
            "  'recall', 'true', average, warn_for)\n",
            "/usr/local/lib/python3.6/dist-packages/sklearn/svm/base.py:196: FutureWarning: The default value of gamma will change from 'auto' to 'scale' in version 0.22 to account better for unscaled features. Set gamma explicitly to 'auto' or 'scale' to avoid this warning.\n",
            "  \"avoid this warning.\", FutureWarning)\n",
            "/usr/local/lib/python3.6/dist-packages/sklearn/metrics/classification.py:1145: UndefinedMetricWarning: F-score is ill-defined and being set to 0.0 in labels with no true samples.\n",
            "  'recall', 'true', average, warn_for)\n",
            "/usr/local/lib/python3.6/dist-packages/sklearn/svm/base.py:196: FutureWarning: The default value of gamma will change from 'auto' to 'scale' in version 0.22 to account better for unscaled features. Set gamma explicitly to 'auto' or 'scale' to avoid this warning.\n",
            "  \"avoid this warning.\", FutureWarning)\n",
            "/usr/local/lib/python3.6/dist-packages/sklearn/metrics/classification.py:1145: UndefinedMetricWarning: F-score is ill-defined and being set to 0.0 in labels with no true samples.\n",
            "  'recall', 'true', average, warn_for)\n",
            "/usr/local/lib/python3.6/dist-packages/sklearn/svm/base.py:196: FutureWarning: The default value of gamma will change from 'auto' to 'scale' in version 0.22 to account better for unscaled features. Set gamma explicitly to 'auto' or 'scale' to avoid this warning.\n",
            "  \"avoid this warning.\", FutureWarning)\n",
            "/usr/local/lib/python3.6/dist-packages/sklearn/svm/base.py:196: FutureWarning: The default value of gamma will change from 'auto' to 'scale' in version 0.22 to account better for unscaled features. Set gamma explicitly to 'auto' or 'scale' to avoid this warning.\n",
            "  \"avoid this warning.\", FutureWarning)\n"
          ],
          "name": "stderr"
        },
        {
          "output_type": "stream",
          "text": [
            "C: 100.0 cross validation error: 0.9777339602056015\n",
            "Best C: 100.0\n"
          ],
          "name": "stdout"
        },
        {
          "output_type": "stream",
          "text": [
            "/usr/local/lib/python3.6/dist-packages/sklearn/metrics/classification.py:1145: UndefinedMetricWarning: F-score is ill-defined and being set to 0.0 in labels with no true samples.\n",
            "  'recall', 'true', average, warn_for)\n"
          ],
          "name": "stderr"
        }
      ]
    },
    {
      "metadata": {
        "id": "J_gaiTAMW9NV",
        "outputId": "adcc37a7-f3b4-4bf0-c63f-4843fc77b6a0",
        "colab": {
          "base_uri": "https://localhost:8080/",
          "height": 1531
        }
      },
      "cell_type": "code",
      "source": [
        "#Random forest hyperparameter selection\n",
        "\n",
        "from sklearn.ensemble import RandomForestClassifier\n",
        "\n",
        "num_folds = 5\n",
        "k_fold = KFold(num_folds, random_state = 0)\n",
        "hyperparameter_settings = [(num_trees, max_depth)\n",
        "                           for num_trees in [10, 50, 200, 1000]\n",
        "                           for max_depth in [3, 4, 5, None]]\n",
        "best_n_estimators = None\n",
        "best_max_depth = None\n",
        "\n",
        "lowest_cross_val_error = -np.inf\n",
        "\n",
        "for setting in hyperparameter_settings:\n",
        "  fold_scores=[]\n",
        "  num_trees, max_depth = setting\n",
        "  for train_indices, val_indices in k_fold.split(X_train,train_labels):\n",
        "    classifier = RandomForestClassifier(n_estimators=num_trees,\n",
        "                                            max_depth=max_depth,\n",
        "                                            random_state=0)\n",
        "    classifier.fit(X_train[train_indices], train_labels[train_indices])\n",
        "    predicted_val_labels = classifier.predict(X_train[val_indices])\n",
        "    f1 = f1_score(train_labels[val_indices], predicted_val_labels, average='weighted')\n",
        "    fold_scores.append(f1)\n",
        "\n",
        "  cross_val_error = np.mean(fold_scores)\n",
        "  print('C:', C, 'cross validation error:', cross_val_error)\n",
        "\n",
        "  #if cross_val_error < lowest_cross_val_error:\n",
        "  if cross_val_error > lowest_cross_val_error:\n",
        "    lowest_cross_val_error = cross_val_error\n",
        "    best_n_estimators, best_max_depth = setting\n",
        "\n",
        "print('Best num estimators:', best_n_estimators)\n",
        "print('Best max depth:', best_max_depth)"
      ],
      "execution_count": null,
      "outputs": [
        {
          "output_type": "stream",
          "text": [
            "/usr/local/lib/python3.6/dist-packages/sklearn/metrics/classification.py:1145: UndefinedMetricWarning: F-score is ill-defined and being set to 0.0 in labels with no true samples.\n",
            "  'recall', 'true', average, warn_for)\n",
            "/usr/local/lib/python3.6/dist-packages/sklearn/metrics/classification.py:1145: UndefinedMetricWarning: F-score is ill-defined and being set to 0.0 in labels with no true samples.\n",
            "  'recall', 'true', average, warn_for)\n",
            "/usr/local/lib/python3.6/dist-packages/sklearn/metrics/classification.py:1145: UndefinedMetricWarning: F-score is ill-defined and being set to 0.0 in labels with no true samples.\n",
            "  'recall', 'true', average, warn_for)\n"
          ],
          "name": "stderr"
        },
        {
          "output_type": "stream",
          "text": [
            "C: 100.0 cross validation error: 0.8403564869292944\n"
          ],
          "name": "stdout"
        },
        {
          "output_type": "stream",
          "text": [
            "/usr/local/lib/python3.6/dist-packages/sklearn/metrics/classification.py:1145: UndefinedMetricWarning: F-score is ill-defined and being set to 0.0 in labels with no true samples.\n",
            "  'recall', 'true', average, warn_for)\n",
            "/usr/local/lib/python3.6/dist-packages/sklearn/metrics/classification.py:1145: UndefinedMetricWarning: F-score is ill-defined and being set to 0.0 in labels with no true samples.\n",
            "  'recall', 'true', average, warn_for)\n",
            "/usr/local/lib/python3.6/dist-packages/sklearn/metrics/classification.py:1145: UndefinedMetricWarning: F-score is ill-defined and being set to 0.0 in labels with no true samples.\n",
            "  'recall', 'true', average, warn_for)\n",
            "/usr/local/lib/python3.6/dist-packages/sklearn/metrics/classification.py:1145: UndefinedMetricWarning: F-score is ill-defined and being set to 0.0 in labels with no true samples.\n",
            "  'recall', 'true', average, warn_for)\n"
          ],
          "name": "stderr"
        },
        {
          "output_type": "stream",
          "text": [
            "C: 100.0 cross validation error: 0.8526922833024816\n"
          ],
          "name": "stdout"
        },
        {
          "output_type": "stream",
          "text": [
            "/usr/local/lib/python3.6/dist-packages/sklearn/metrics/classification.py:1145: UndefinedMetricWarning: F-score is ill-defined and being set to 0.0 in labels with no true samples.\n",
            "  'recall', 'true', average, warn_for)\n",
            "/usr/local/lib/python3.6/dist-packages/sklearn/metrics/classification.py:1145: UndefinedMetricWarning: F-score is ill-defined and being set to 0.0 in labels with no true samples.\n",
            "  'recall', 'true', average, warn_for)\n",
            "/usr/local/lib/python3.6/dist-packages/sklearn/metrics/classification.py:1145: UndefinedMetricWarning: F-score is ill-defined and being set to 0.0 in labels with no true samples.\n",
            "  'recall', 'true', average, warn_for)\n"
          ],
          "name": "stderr"
        },
        {
          "output_type": "stream",
          "text": [
            "C: 100.0 cross validation error: 0.8699491037727972\n"
          ],
          "name": "stdout"
        },
        {
          "output_type": "stream",
          "text": [
            "/usr/local/lib/python3.6/dist-packages/sklearn/metrics/classification.py:1145: UndefinedMetricWarning: F-score is ill-defined and being set to 0.0 in labels with no true samples.\n",
            "  'recall', 'true', average, warn_for)\n",
            "/usr/local/lib/python3.6/dist-packages/sklearn/metrics/classification.py:1145: UndefinedMetricWarning: F-score is ill-defined and being set to 0.0 in labels with no true samples.\n",
            "  'recall', 'true', average, warn_for)\n",
            "/usr/local/lib/python3.6/dist-packages/sklearn/metrics/classification.py:1145: UndefinedMetricWarning: F-score is ill-defined and being set to 0.0 in labels with no true samples.\n",
            "  'recall', 'true', average, warn_for)\n",
            "/usr/local/lib/python3.6/dist-packages/sklearn/metrics/classification.py:1145: UndefinedMetricWarning: F-score is ill-defined and being set to 0.0 in labels with no true samples.\n",
            "  'recall', 'true', average, warn_for)\n"
          ],
          "name": "stderr"
        },
        {
          "output_type": "stream",
          "text": [
            "C: 100.0 cross validation error: 0.9674006901880032\n"
          ],
          "name": "stdout"
        },
        {
          "output_type": "stream",
          "text": [
            "/usr/local/lib/python3.6/dist-packages/sklearn/metrics/classification.py:1145: UndefinedMetricWarning: F-score is ill-defined and being set to 0.0 in labels with no true samples.\n",
            "  'recall', 'true', average, warn_for)\n"
          ],
          "name": "stderr"
        },
        {
          "output_type": "stream",
          "text": [
            "C: 100.0 cross validation error: 0.8327419825848865\n"
          ],
          "name": "stdout"
        },
        {
          "output_type": "stream",
          "text": [
            "/usr/local/lib/python3.6/dist-packages/sklearn/metrics/classification.py:1145: UndefinedMetricWarning: F-score is ill-defined and being set to 0.0 in labels with no true samples.\n",
            "  'recall', 'true', average, warn_for)\n"
          ],
          "name": "stderr"
        },
        {
          "output_type": "stream",
          "text": [
            "C: 100.0 cross validation error: 0.8454210132094394\n"
          ],
          "name": "stdout"
        },
        {
          "output_type": "stream",
          "text": [
            "/usr/local/lib/python3.6/dist-packages/sklearn/metrics/classification.py:1145: UndefinedMetricWarning: F-score is ill-defined and being set to 0.0 in labels with no true samples.\n",
            "  'recall', 'true', average, warn_for)\n"
          ],
          "name": "stderr"
        },
        {
          "output_type": "stream",
          "text": [
            "C: 100.0 cross validation error: 0.8597498887383119\n"
          ],
          "name": "stdout"
        },
        {
          "output_type": "stream",
          "text": [
            "/usr/local/lib/python3.6/dist-packages/sklearn/metrics/classification.py:1145: UndefinedMetricWarning: F-score is ill-defined and being set to 0.0 in labels with no true samples.\n",
            "  'recall', 'true', average, warn_for)\n",
            "/usr/local/lib/python3.6/dist-packages/sklearn/metrics/classification.py:1145: UndefinedMetricWarning: F-score is ill-defined and being set to 0.0 in labels with no true samples.\n",
            "  'recall', 'true', average, warn_for)\n",
            "/usr/local/lib/python3.6/dist-packages/sklearn/metrics/classification.py:1145: UndefinedMetricWarning: F-score is ill-defined and being set to 0.0 in labels with no true samples.\n",
            "  'recall', 'true', average, warn_for)\n",
            "/usr/local/lib/python3.6/dist-packages/sklearn/metrics/classification.py:1145: UndefinedMetricWarning: F-score is ill-defined and being set to 0.0 in labels with no true samples.\n",
            "  'recall', 'true', average, warn_for)\n"
          ],
          "name": "stderr"
        },
        {
          "output_type": "stream",
          "text": [
            "C: 100.0 cross validation error: 0.9766663645442172\n"
          ],
          "name": "stdout"
        },
        {
          "output_type": "stream",
          "text": [
            "/usr/local/lib/python3.6/dist-packages/sklearn/metrics/classification.py:1145: UndefinedMetricWarning: F-score is ill-defined and being set to 0.0 in labels with no true samples.\n",
            "  'recall', 'true', average, warn_for)\n"
          ],
          "name": "stderr"
        },
        {
          "output_type": "stream",
          "text": [
            "C: 100.0 cross validation error: 0.8165525954073484\n"
          ],
          "name": "stdout"
        },
        {
          "output_type": "stream",
          "text": [
            "/usr/local/lib/python3.6/dist-packages/sklearn/metrics/classification.py:1145: UndefinedMetricWarning: F-score is ill-defined and being set to 0.0 in labels with no true samples.\n",
            "  'recall', 'true', average, warn_for)\n"
          ],
          "name": "stderr"
        },
        {
          "output_type": "stream",
          "text": [
            "C: 100.0 cross validation error: 0.8379948436027862\n"
          ],
          "name": "stdout"
        },
        {
          "output_type": "stream",
          "text": [
            "/usr/local/lib/python3.6/dist-packages/sklearn/metrics/classification.py:1145: UndefinedMetricWarning: F-score is ill-defined and being set to 0.0 in labels with no true samples.\n",
            "  'recall', 'true', average, warn_for)\n"
          ],
          "name": "stderr"
        },
        {
          "output_type": "stream",
          "text": [
            "C: 100.0 cross validation error: 0.8542963577994952\n"
          ],
          "name": "stdout"
        },
        {
          "output_type": "stream",
          "text": [
            "/usr/local/lib/python3.6/dist-packages/sklearn/metrics/classification.py:1145: UndefinedMetricWarning: F-score is ill-defined and being set to 0.0 in labels with no true samples.\n",
            "  'recall', 'true', average, warn_for)\n",
            "/usr/local/lib/python3.6/dist-packages/sklearn/metrics/classification.py:1145: UndefinedMetricWarning: F-score is ill-defined and being set to 0.0 in labels with no true samples.\n",
            "  'recall', 'true', average, warn_for)\n",
            "/usr/local/lib/python3.6/dist-packages/sklearn/metrics/classification.py:1145: UndefinedMetricWarning: F-score is ill-defined and being set to 0.0 in labels with no true samples.\n",
            "  'recall', 'true', average, warn_for)\n",
            "/usr/local/lib/python3.6/dist-packages/sklearn/metrics/classification.py:1145: UndefinedMetricWarning: F-score is ill-defined and being set to 0.0 in labels with no true samples.\n",
            "  'recall', 'true', average, warn_for)\n"
          ],
          "name": "stderr"
        },
        {
          "output_type": "stream",
          "text": [
            "C: 100.0 cross validation error: 0.9776084533664651\n"
          ],
          "name": "stdout"
        },
        {
          "output_type": "stream",
          "text": [
            "/usr/local/lib/python3.6/dist-packages/sklearn/metrics/classification.py:1145: UndefinedMetricWarning: F-score is ill-defined and being set to 0.0 in labels with no true samples.\n",
            "  'recall', 'true', average, warn_for)\n"
          ],
          "name": "stderr"
        },
        {
          "output_type": "stream",
          "text": [
            "C: 100.0 cross validation error: 0.8138291830337219\n"
          ],
          "name": "stdout"
        },
        {
          "output_type": "stream",
          "text": [
            "/usr/local/lib/python3.6/dist-packages/sklearn/metrics/classification.py:1145: UndefinedMetricWarning: F-score is ill-defined and being set to 0.0 in labels with no true samples.\n",
            "  'recall', 'true', average, warn_for)\n"
          ],
          "name": "stderr"
        },
        {
          "output_type": "stream",
          "text": [
            "C: 100.0 cross validation error: 0.836477493168443\n"
          ],
          "name": "stdout"
        },
        {
          "output_type": "stream",
          "text": [
            "/usr/local/lib/python3.6/dist-packages/sklearn/metrics/classification.py:1145: UndefinedMetricWarning: F-score is ill-defined and being set to 0.0 in labels with no true samples.\n",
            "  'recall', 'true', average, warn_for)\n"
          ],
          "name": "stderr"
        },
        {
          "output_type": "stream",
          "text": [
            "C: 100.0 cross validation error: 0.8549898434108449\n"
          ],
          "name": "stdout"
        },
        {
          "output_type": "stream",
          "text": [
            "/usr/local/lib/python3.6/dist-packages/sklearn/metrics/classification.py:1145: UndefinedMetricWarning: F-score is ill-defined and being set to 0.0 in labels with no true samples.\n",
            "  'recall', 'true', average, warn_for)\n",
            "/usr/local/lib/python3.6/dist-packages/sklearn/metrics/classification.py:1145: UndefinedMetricWarning: F-score is ill-defined and being set to 0.0 in labels with no true samples.\n",
            "  'recall', 'true', average, warn_for)\n",
            "/usr/local/lib/python3.6/dist-packages/sklearn/metrics/classification.py:1145: UndefinedMetricWarning: F-score is ill-defined and being set to 0.0 in labels with no true samples.\n",
            "  'recall', 'true', average, warn_for)\n"
          ],
          "name": "stderr"
        },
        {
          "output_type": "stream",
          "text": [
            "C: 100.0 cross validation error: 0.9779358633872132\n",
            "Best num estimators: 1000\n",
            "Best max depth: None\n"
          ],
          "name": "stdout"
        },
        {
          "output_type": "stream",
          "text": [
            "/usr/local/lib/python3.6/dist-packages/sklearn/metrics/classification.py:1145: UndefinedMetricWarning: F-score is ill-defined and being set to 0.0 in labels with no true samples.\n",
            "  'recall', 'true', average, warn_for)\n"
          ],
          "name": "stderr"
        }
      ]
    },
    {
      "metadata": {
        "id": "TqGYMJQ6o-wl"
      },
      "cell_type": "markdown",
      "source": [
        "### (e) Classifier testing: Precision-Recall and ROC curves [20 points]\n",
        "\n",
        "   - Use the best hyperparameters for each classifier from the previous question to **train** your classifiers on the training data.\n",
        "   - Use test emails to in the `testing` folder to **test** your classifiers and construct the plots below.\n",
        "\n",
        "Things to plot:\n",
        "\n",
        "   - Construct one plot containing 3 ROC curves, one for each classifier.\n",
        "   - In the legend of this plot, display the AUC for each classifier.\n",
        "   - Construct one plot containing 3 precision-recall curves, one for each classifier.\n",
        "   - In the legend of each plot, display the average precision for each classifier.\n",
        "\n",
        "Note that these plots are on the test data: you will have to read in this data, construct a document matrix and labels. Some words in the test data may not have been present in the training data: there are multiple ways to address this, briefly describe your approach.\n",
        "\n",
        "Things to answer:\n",
        "\n",
        "   - Of the ROC and Precision-Recall curves, which one would you use for this task and why?\n",
        "   - Which classifier is the best, according to your chosen curves?"
      ]
    },
    {
      "metadata": {
        "id": "8CQGCVP9foVj"
      },
      "cell_type": "code",
      "source": [
        "# construct document matrix for test data\n",
        "\n",
        "ham = glob.glob('/content/drive/My Drive/95865 Unstructured Data Analytics/HW3/email-data/testing/*.ham.txt')\n",
        "spam = glob.glob('/content/drive/My Drive/95865 Unstructured Data Analytics/HW3/email-data/testing/*.spam.txt')"
      ],
      "execution_count": null,
      "outputs": []
    },
    {
      "metadata": {
        "id": "Woe_zOd08WUC",
        "outputId": "d0a80ce7-2160-4db1-d047-4fd88a32c8e1",
        "colab": {
          "base_uri": "https://localhost:8080/",
          "height": 51
        }
      },
      "cell_type": "code",
      "source": [
        "spam_test = []\n",
        "ham_test = []\n",
        "\n",
        "for file in ham:\n",
        "  ham_test.append(file)\n",
        "\n",
        "for file in spam:\n",
        "  spam_test.append(file)\n",
        "\n",
        "print(\"Number of spam emails: \" + str(len(spam_test)))\n",
        "print(\"Number of ham emails: \" + str(len(ham_test)))"
      ],
      "execution_count": null,
      "outputs": [
        {
          "output_type": "stream",
          "text": [
            "Number of spam emails: 49\n",
            "Number of ham emails: 51\n"
          ],
          "name": "stdout"
        }
      ]
    },
    {
      "metadata": {
        "id": "0jiOWjT6An5B"
      },
      "cell_type": "code",
      "source": [
        "##\n",
        "test_documents = []\n",
        "test_labels = []\n",
        "\n",
        "for file in spam_test:\n",
        "  processed_file = makeWordList(file)\n",
        "  test_documents.append(processed_file)\n",
        "  test_labels.append(1)\n",
        "\n",
        "for file in ham_test:\n",
        "  processed_file = makeWordList(file)\n",
        "  test_documents.append(processed_file)\n",
        "  test_labels.append(0)"
      ],
      "execution_count": null,
      "outputs": []
    },
    {
      "metadata": {
        "id": "CwWVzWw_AvrB"
      },
      "cell_type": "code",
      "source": [
        "test_labels = np.asarray(test_labels)\n",
        "#test_vectorizer = CountVectorizer(stop_words=\"english\", max_df=0.8, min_df=50)\n",
        "x_test = vectorizer.transform(test_documents)\n"
      ],
      "execution_count": null,
      "outputs": []
    },
    {
      "metadata": {
        "id": "6xg83nKtA07s",
        "outputId": "84ad10cc-fdb1-4817-d2d5-6754d353bc89",
        "colab": {
          "base_uri": "https://localhost:8080/",
          "height": 34
        }
      },
      "cell_type": "code",
      "source": [
        "print(x_test.shape)"
      ],
      "execution_count": null,
      "outputs": [
        {
          "output_type": "stream",
          "text": [
            "(100, 1680)\n"
          ],
          "name": "stdout"
        }
      ]
    },
    {
      "metadata": {
        "id": "gEAwefSdLa8B"
      },
      "cell_type": "code",
      "source": [
        "X_test = x_test.toarray()\n",
        "#print(X_test.shape)"
      ],
      "execution_count": null,
      "outputs": []
    },
    {
      "metadata": {
        "id": "Ql1YG2j2fzX1",
        "outputId": "4103a6c6-d0cf-414e-8e10-c721dc79f987",
        "colab": {
          "base_uri": "https://localhost:8080/",
          "height": 69
        }
      },
      "cell_type": "code",
      "source": [
        "# Train KNN model using selected hyperparameters\n",
        "knn_classifier = KNeighborsClassifier(n_neighbors=best_k)\n",
        "knn_classifier.fit(X_train, train_labels)\n"
      ],
      "execution_count": null,
      "outputs": [
        {
          "output_type": "execute_result",
          "data": {
            "text/plain": [
              "KNeighborsClassifier(algorithm='auto', leaf_size=30, metric='minkowski',\n",
              "           metric_params=None, n_jobs=None, n_neighbors=2, p=2,\n",
              "           weights='uniform')"
            ]
          },
          "metadata": {
            "tags": []
          },
          "execution_count": 39
        }
      ]
    },
    {
      "metadata": {
        "id": "YWqGPqDRf92l",
        "outputId": "8c6b3522-28a1-4e55-c529-472546b8964c",
        "colab": {
          "base_uri": "https://localhost:8080/",
          "height": 140
        }
      },
      "cell_type": "code",
      "source": [
        "# Train SVM model using selected hyperparameters\n",
        "svm_classifier = svm.SVC(kernel='rbf', C=best_C)\n",
        "svm_classifier.fit(X_train, train_labels)"
      ],
      "execution_count": null,
      "outputs": [
        {
          "output_type": "stream",
          "text": [
            "/usr/local/lib/python3.6/dist-packages/sklearn/svm/base.py:196: FutureWarning: The default value of gamma will change from 'auto' to 'scale' in version 0.22 to account better for unscaled features. Set gamma explicitly to 'auto' or 'scale' to avoid this warning.\n",
            "  \"avoid this warning.\", FutureWarning)\n"
          ],
          "name": "stderr"
        },
        {
          "output_type": "execute_result",
          "data": {
            "text/plain": [
              "SVC(C=100.0, cache_size=200, class_weight=None, coef0=0.0,\n",
              "  decision_function_shape='ovr', degree=3, gamma='auto_deprecated',\n",
              "  kernel='rbf', max_iter=-1, probability=False, random_state=None,\n",
              "  shrinking=True, tol=0.001, verbose=False)"
            ]
          },
          "metadata": {
            "tags": []
          },
          "execution_count": 40
        }
      ]
    },
    {
      "metadata": {
        "id": "kUcCIGpJgECF",
        "outputId": "bced841d-6a76-4c95-87eb-343a3c3997a4",
        "colab": {
          "base_uri": "https://localhost:8080/",
          "height": 120
        }
      },
      "cell_type": "code",
      "source": [
        "# Train RandomForest model using selected hyperparameters\n",
        "rf_classifier = RandomForestClassifier(n_estimators=best_n_estimators,\n",
        "                                       max_depth=best_max_depth,\n",
        "                                       random_state=0)\n",
        "rf_classifier.fit(X_train, train_labels)\n",
        "\n"
      ],
      "execution_count": null,
      "outputs": [
        {
          "output_type": "execute_result",
          "data": {
            "text/plain": [
              "RandomForestClassifier(bootstrap=True, class_weight=None, criterion='gini',\n",
              "            max_depth=None, max_features='auto', max_leaf_nodes=None,\n",
              "            min_impurity_decrease=0.0, min_impurity_split=None,\n",
              "            min_samples_leaf=1, min_samples_split=2,\n",
              "            min_weight_fraction_leaf=0.0, n_estimators=1000, n_jobs=None,\n",
              "            oob_score=False, random_state=0, verbose=0, warm_start=False)"
            ]
          },
          "metadata": {
            "tags": []
          },
          "execution_count": 41
        }
      ]
    },
    {
      "metadata": {
        "id": "rYqB6oDBNl5w"
      },
      "cell_type": "code",
      "source": [
        "# Test classifiers and plot\n",
        "import matplotlib.pyplot as plt\n",
        "%matplotlib inline\n",
        "\n",
        "from sklearn.metrics import roc_curve\n",
        "from sklearn.metrics import precision_recall_curve\n",
        "from sklearn.metrics import average_precision_score"
      ],
      "execution_count": null,
      "outputs": []
    },
    {
      "metadata": {
        "id": "1vQSFFFno-wm",
        "outputId": "a5469cf6-f1ab-47b0-8018-649d21c79356",
        "colab": {
          "base_uri": "https://localhost:8080/",
          "height": 620
        }
      },
      "cell_type": "code",
      "source": [
        "plt.figure(figsize=(10,10))\n",
        "\n",
        "knn_predicted = knn_classifier.predict_proba(X_test)[:,1]\n",
        "fpr, tpr, thresholds = roc_curve(test_labels, knn_predicted, pos_label=1)\n",
        "auc = np.trapz(tpr, fpr)\n",
        "plt.plot(fpr, tpr, linestyle='-', alpha=0.5, color= 'blue',\n",
        "         label = 'knn ' + str(\"%.2f\" % round(auc,2)))\n",
        "\n",
        "svm_predicted = svm_classifier.decision_function(X_test)\n",
        "fpr, tpr, thresholds = roc_curve(test_labels, svm_predicted, pos_label=1)\n",
        "auc = np.trapz(tpr, fpr)\n",
        "plt.plot(fpr, tpr, linestyle='-', alpha=0.5, color= 'red',\n",
        "         label = 'SVM ' + str(\"%.2f\" % round(auc,2)))\n",
        "\n",
        "rf_predicted = rf_classifier.predict_proba(X_test)[:,1]\n",
        "fpr, tpr, thresholds = roc_curve(test_labels, rf_predicted, pos_label=1)\n",
        "auc = np.trapz(tpr, fpr)\n",
        "plt.plot(fpr, tpr, linestyle='-', alpha=0.5, color= 'green',\n",
        "         label = 'RF ' + str(\"%.2f\" % round(auc,2)))\n",
        "\n",
        "plt.legend(title = 'AUC', loc = 'best')\n",
        "plt.title(\"ROC curve\")\n",
        "plt.xlabel(\"FPR\")\n",
        "plt.ylabel(\"TPR\")\n",
        "plt.show()"
      ],
      "execution_count": null,
      "outputs": [
        {
          "output_type": "display_data",
          "data": {
            "image/png": "[encoded data removed]",
            "text/plain": [
              "<Figure size 720x720 with 1 Axes>"
            ]
          },
          "metadata": {
            "tags": []
          }
        }
      ]
    },
    {
      "metadata": {
        "id": "uV4AB2UmSRml",
        "outputId": "750486ba-c336-4928-f54b-1223076a229c",
        "colab": {
          "base_uri": "https://localhost:8080/",
          "height": 637
        }
      },
      "cell_type": "code",
      "source": [
        "plt.figure(figsize=(10,10))\n",
        "\n",
        "knn_predicted = knn_classifier.predict_proba(X_test)[:,1]\n",
        "precision, recall, _  = precision_recall_curve(test_labels, knn_predicted)\n",
        "#precision, recall, _  = precision_recall_curve(test_labels, knn_predicted, pos_label=1)\n",
        "auPR = average_precision_score(test_labels, knn_predicted)\n",
        "plt.plot(recall, precision, linestyle='--', alpha=0.5, color= 'blue',\n",
        "         label = 'knn ' + str(\"%.2f\" % round(auPR,2)))\n",
        "\n",
        "\n",
        "svm_predicted = svm_classifier.decision_function(X_test)\n",
        "precision, recall, _  = precision_recall_curve(test_labels, svm_predicted)\n",
        "auPR = average_precision_score(test_labels, svm_predicted)\n",
        "plt.plot(recall, precision, linestyle='--', alpha=0.5, color= 'red',\n",
        "         label = 'SVM ' + str(\"%.2f\" % round(auPR,2)))\n",
        "\n",
        "rf_predicted = rf_classifier.predict_proba(X_test)[:,1]\n",
        "precision, recall, _  = precision_recall_curve(test_labels, rf_predicted)\n",
        "auPR = average_precision_score(test_labels, rf_predicted)\n",
        "plt.plot(recall, precision, linestyle='--', alpha=0.5, color= 'green',\n",
        "         label = 'RF ' + str(\"%.2f\" % round(auPR,2)))\n",
        "\n",
        "\n",
        "plt.legend(title = 'Precision Score', loc = 'best')\n",
        "plt.title(\"Precision Recall curve\")\n",
        "plt.xlabel('Recall')\n",
        "plt.ylabel('Precision')\n",
        "#plt.show()"
      ],
      "execution_count": null,
      "outputs": [
        {
          "output_type": "execute_result",
          "data": {
            "text/plain": [
              "Text(0, 0.5, 'Precision')"
            ]
          },
          "metadata": {
            "tags": []
          },
          "execution_count": 47
        },
        {
          "output_type": "display_data",
          "data": {
            "image/png": "[encoded data removed]",
            "text/plain": [
              "<Figure size 720x720 with 1 Axes>"
            ]
          },
          "metadata": {
            "tags": []
          }
        }
      ]
    },
    {
      "metadata": {
        "id": "0kQFZPjuyD2O"
      },
      "cell_type": "markdown",
      "source": [
        "* Some words in the test data may not have been present in the training data: there are multiple ways to address this, briefly describe your approach.\n",
        "\n",
        "**My approach was to transform test_documents using CountVectorizer I had fit unto training documents. Therefore model was not learning vocabulary that was not in training set. The document-term matrix that is returned would therefore exclude test data not present in training data**\n",
        "\n",
        "* Of the ROC and Precision-Recall curves, which one would you use for this task and why?\n",
        "\n",
        "**For spam email classficiation, we care more about correctly predicting true positives so a precision-recall curve would be more instructive.**\n",
        "\n",
        "\n",
        "* Which classifier is the best, according to your chosen curves?\n",
        "\n",
        "Random forest classifier and SVM classifier perform equally well based on ROC and Precision-Recall curves\n"
      ]
    }
  ]
}