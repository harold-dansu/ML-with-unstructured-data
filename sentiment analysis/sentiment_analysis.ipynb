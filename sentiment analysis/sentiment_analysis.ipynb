{
  "nbformat": 4,
  "nbformat_minor": 0,
  "metadata": {
    "colab": {
      "provenance": []
    },
    "kernelspec": {
      "name": "python3",
      "display_name": "Python 3"
    },
    "accelerator": "GPU"
  },
  "cells": [
    {
      "metadata": {
        "id": "uz3ZgCm6o-yW"
      },
      "cell_type": "markdown",
      "source": [
        "# Sentiment Analysis"
      ]
    },
    {
      "cell_type": "code",
      "source": [
        "### Read the training data"
      ],
      "metadata": {
        "id": "jKYr3pwDUsVq"
      },
      "execution_count": null,
      "outputs": []
    },
    {
      "metadata": {
        "id": "NhES0XDlbJdE"
      },
      "cell_type": "code",
      "source": [
        "import numpy as np\n",
        "import matplotlib.pyplot as plt\n",
        "import pandas as pd\n",
        "%matplotlib inline"
      ],
      "execution_count": null,
      "outputs": []
    },
    {
      "metadata": {
        "id": "kerfem_Po-yY",
        "outputId": "aa71c6f5-f500-4191-eb81-adb76a7e8530",
        "colab": {
          "base_uri": "https://localhost:8080/",
          "height": 51
        }
      },
      "cell_type": "code",
      "source": [
        "%%time\n",
        "# read in file\n",
        "df = pd.read_csv('/content/drive/My Drive/95865 Unstructured Data Analytics/HW3/HW3-data/train.csv', sep=\",\", header=None, encoding='iso8859')"
      ],
      "execution_count": null,
      "outputs": [
        {
          "output_type": "stream",
          "text": [
            "CPU times: user 6.73 s, sys: 354 ms, total: 7.08 s\n",
            "Wall time: 7.26 s\n"
          ],
          "name": "stdout"
        }
      ]
    },
    {
      "metadata": {
        "id": "vKLQQgxObnpm",
        "outputId": "c5411b17-4325-4459-d7e8-94ee493eb740",
        "colab": {
          "base_uri": "https://localhost:8080/",
          "height": 141
        }
      },
      "cell_type": "code",
      "source": [
        "df.head(n=3)"
      ],
      "execution_count": null,
      "outputs": [
        {
          "output_type": "execute_result",
          "data": {
            "text/html": [
              "<div>\n",
              "<style scoped>\n",
              "    .dataframe tbody tr th:only-of-type {\n",
              "        vertical-align: middle;\n",
              "    }\n",
              "\n",
              "    .dataframe tbody tr th {\n",
              "        vertical-align: top;\n",
              "    }\n",
              "\n",
              "    .dataframe thead th {\n",
              "        text-align: right;\n",
              "    }\n",
              "</style>\n",
              "<table border=\"1\" class=\"dataframe\">\n",
              "  <thead>\n",
              "    <tr style=\"text-align: right;\">\n",
              "      <th></th>\n",
              "      <th>0</th>\n",
              "      <th>1</th>\n",
              "      <th>2</th>\n",
              "      <th>3</th>\n",
              "      <th>4</th>\n",
              "      <th>5</th>\n",
              "    </tr>\n",
              "  </thead>\n",
              "  <tbody>\n",
              "    <tr>\n",
              "      <th>0</th>\n",
              "      <td>0</td>\n",
              "      <td>1467810369</td>\n",
              "      <td>Mon Apr 06 22:19:45 PDT 2009</td>\n",
              "      <td>NO_QUERY</td>\n",
              "      <td>_TheSpecialOne_</td>\n",
              "      <td>@switchfoot http://twitpic.com/2y1zl - Awww, t...</td>\n",
              "    </tr>\n",
              "    <tr>\n",
              "      <th>1</th>\n",
              "      <td>0</td>\n",
              "      <td>1467810672</td>\n",
              "      <td>Mon Apr 06 22:19:49 PDT 2009</td>\n",
              "      <td>NO_QUERY</td>\n",
              "      <td>scotthamilton</td>\n",
              "      <td>is upset that he can't update his Facebook by ...</td>\n",
              "    </tr>\n",
              "    <tr>\n",
              "      <th>2</th>\n",
              "      <td>0</td>\n",
              "      <td>1467810917</td>\n",
              "      <td>Mon Apr 06 22:19:53 PDT 2009</td>\n",
              "      <td>NO_QUERY</td>\n",
              "      <td>mattycus</td>\n",
              "      <td>@Kenichan I dived many times for the ball. Man...</td>\n",
              "    </tr>\n",
              "  </tbody>\n",
              "</table>\n",
              "</div>"
            ],
            "text/plain": [
              "   0           1                             2         3                4  \\\n",
              "0  0  1467810369  Mon Apr 06 22:19:45 PDT 2009  NO_QUERY  _TheSpecialOne_   \n",
              "1  0  1467810672  Mon Apr 06 22:19:49 PDT 2009  NO_QUERY    scotthamilton   \n",
              "2  0  1467810917  Mon Apr 06 22:19:53 PDT 2009  NO_QUERY         mattycus   \n",
              "\n",
              "                                                   5  \n",
              "0  @switchfoot http://twitpic.com/2y1zl - Awww, t...  \n",
              "1  is upset that he can't update his Facebook by ...  \n",
              "2  @Kenichan I dived many times for the ball. Man...  "
            ]
          },
          "metadata": {
            "tags": []
          },
          "execution_count": 5
        }
      ]
    },
    {
      "metadata": {
        "id": "MQNl0J5lcjhd"
      },
      "cell_type": "code",
      "source": [
        "# Keep only the sentiment and sentiment text in the data\n",
        "df = df.drop([1,2,3,4], axis=1)"
      ],
      "execution_count": null,
      "outputs": []
    },
    {
      "metadata": {
        "id": "k-WLmHN7czvq",
        "outputId": "2f9c9984-43fa-44a6-f903-b260b39167db",
        "colab": {
          "base_uri": "https://localhost:8080/",
          "height": 141
        }
      },
      "cell_type": "code",
      "source": [
        "df.head(n=3)"
      ],
      "execution_count": null,
      "outputs": [
        {
          "output_type": "execute_result",
          "data": {
            "text/html": [
              "<div>\n",
              "<style scoped>\n",
              "    .dataframe tbody tr th:only-of-type {\n",
              "        vertical-align: middle;\n",
              "    }\n",
              "\n",
              "    .dataframe tbody tr th {\n",
              "        vertical-align: top;\n",
              "    }\n",
              "\n",
              "    .dataframe thead th {\n",
              "        text-align: right;\n",
              "    }\n",
              "</style>\n",
              "<table border=\"1\" class=\"dataframe\">\n",
              "  <thead>\n",
              "    <tr style=\"text-align: right;\">\n",
              "      <th></th>\n",
              "      <th>0</th>\n",
              "      <th>5</th>\n",
              "    </tr>\n",
              "  </thead>\n",
              "  <tbody>\n",
              "    <tr>\n",
              "      <th>0</th>\n",
              "      <td>1</td>\n",
              "      <td>@BJoiella I think i'm falling in love with you...</td>\n",
              "    </tr>\n",
              "    <tr>\n",
              "      <th>1</th>\n",
              "      <td>1</td>\n",
              "      <td>twitterphone is working well fast</td>\n",
              "    </tr>\n",
              "    <tr>\n",
              "      <th>2</th>\n",
              "      <td>0</td>\n",
              "      <td>@spiderygirl Whaaat I'm so jealous</td>\n",
              "    </tr>\n",
              "  </tbody>\n",
              "</table>\n",
              "</div>"
            ],
            "text/plain": [
              "   0                                                  5\n",
              "0  1  @BJoiella I think i'm falling in love with you...\n",
              "1  1                 twitterphone is working well fast \n",
              "2  0                @spiderygirl Whaaat I'm so jealous "
            ]
          },
          "metadata": {
            "tags": []
          },
          "execution_count": 35
        }
      ]
    },
    {
      "metadata": {
        "id": "8pQs1fZAeLqK"
      },
      "cell_type": "code",
      "source": [
        "#Shuffle the rows of the data frame such that the positive and negative tweets are mixed\n",
        "df = df.sample(frac=1).reset_index(drop=True)\n",
        "\n",
        "# Source: https://stackoverflow.com/questions/29576430/shuffle-dataframe-rows"
      ],
      "execution_count": null,
      "outputs": []
    },
    {
      "metadata": {
        "id": "z9dI8JRtc8xQ",
        "outputId": "bfab3b35-07bf-4709-d115-3f2d13d72c69",
        "colab": {
          "base_uri": "https://localhost:8080/",
          "height": 189
        }
      },
      "cell_type": "code",
      "source": [
        "# Print the first 5 sentiments.\n",
        "for i in range(5):\n",
        "  print(df.iloc[i][5])\n",
        "  print()"
      ],
      "execution_count": null,
      "outputs": [
        {
          "output_type": "stream",
          "text": [
            "lol so boredd nithing to do someone SAVE ME PLEASE \n",
            "\n",
            "@JorDivision You never call me and leave me voicemails of you singing anymore. I miss it \n",
            "\n",
            "@madwilliamflint hahahaha that was great \n",
            "\n",
            "@urbanphish I'm trying a low-carb. You can eat as much as you want of the other things. It's still miserable, b/c all my favs are carbs. \n",
            "\n",
            "Watching the storm from the porch with Brad \n",
            "\n"
          ],
          "name": "stdout"
        }
      ]
    },
    {
      "metadata": {
        "id": "ZwB0GkY8bg3c",
        "outputId": "0fe0e74b-9af1-4b28-f7e3-855eff74fd09",
        "colab": {
          "base_uri": "https://localhost:8080/",
          "height": 51
        }
      },
      "cell_type": "code",
      "source": [
        "%%time\n",
        "#Print the number of positive and negative sentiment labels\n",
        "# 0 is negative 1 is positive\n",
        "\n",
        "positive_labels = 0\n",
        "negative_labels = 0\n",
        "\n",
        "for i in range(len(df)):\n",
        "  if df.iloc[i][0] == 0:\n",
        "    negative_labels +=1\n",
        "  if df.iloc[i][0] == 1:\n",
        "    positive_labels +=1\n",
        ""
      ],
      "execution_count": null,
      "outputs": [
        {
          "output_type": "stream",
          "text": [
            "CPU times: user 9min 10s, sys: 118 ms, total: 9min 10s\n",
            "Wall time: 9min 11s\n"
          ],
          "name": "stdout"
        }
      ]
    },
    {
      "metadata": {
        "id": "JUUWkGb5xzQF"
      },
      "cell_type": "code",
      "source": [
        "train_labels=df[0].tolist()\n",
        "#train_labels="
      ],
      "execution_count": null,
      "outputs": []
    },
    {
      "metadata": {
        "id": "Z6lro988oDWK",
        "outputId": "22fdd5b6-e416-4b08-eed7-da339c72df86",
        "colab": {
          "base_uri": "https://localhost:8080/",
          "height": 51
        }
      },
      "cell_type": "code",
      "source": [
        "print(\"number of positive labels \" + str(positive_labels))\n",
        "print(\"number of negative labels \" + str(negative_labels))"
      ],
      "execution_count": null,
      "outputs": [
        {
          "output_type": "stream",
          "text": [
            "number of positive labels 800000\n",
            "number of negative labels 800000\n"
          ],
          "name": "stdout"
        }
      ]
    },
    {
      "metadata": {
        "id": "SYzdSEO3o-ya"
      },
      "cell_type": "markdown",
      "source": [
        "### Data Preparation"
      ]
    },
    {
      "metadata": {
        "id": "aCM1dkN5o-yb"
      },
      "cell_type": "markdown",
      "source": [
        "Before building a neural network model, we first need to prepare the data. The input to a RNN model  is a matrix with shape (a, b), where a is the number of samples (tweets), and b is the sequence length of each tweet. Prepare the data with the following steps:\n",
        "\n",
        "1\\. Take the RAW texts of the top 5000 tweets in the data and convert them to a list of strings, where each string is a tweet"
      ]
    },
    {
      "metadata": {
        "id": "NyUDEbNwo-yc"
      },
      "cell_type": "code",
      "source": [
        "#take top 5000 tweets in the data\n",
        "# convert to a list of strings\n",
        "list_of_tweets = []\n",
        "for i in range(5000):\n",
        "  tweet = df.iloc[i][5]\n",
        "  list_of_tweets.append(tweet.rstrip())"
      ],
      "execution_count": null,
      "outputs": []
    },
    {
      "metadata": {
        "id": "ni5miG48qNvR"
      },
      "cell_type": "code",
      "source": [
        "#list_of_tweets[3]"
      ],
      "execution_count": null,
      "outputs": []
    },
    {
      "metadata": {
        "id": "sVbn_4WSo-yg"
      },
      "cell_type": "markdown",
      "source": [
        "2\\. Use `Tokenizer` from `keras.preprocessing.text` to tokenize the texts and convert them to sequences (numbers) with the `texts_to_sequences` method of `Tokenizer`."
      ]
    },
    {
      "metadata": {
        "id": "Uxf-5SKSo-yh",
        "outputId": "fab7a8da-841c-428d-91a6-2efc771984c4",
        "colab": {
          "base_uri": "https://localhost:8080/",
          "height": 34
        }
      },
      "cell_type": "code",
      "source": [
        "from keras.preprocessing.text import Tokenizer"
      ],
      "execution_count": null,
      "outputs": [
        {
          "output_type": "stream",
          "text": [
            "Using TensorFlow backend.\n"
          ],
          "name": "stderr"
        }
      ]
    },
    {
      "metadata": {
        "id": "_Dimde2irfKY"
      },
      "cell_type": "code",
      "source": [
        "#iniitialize tokenizer class. Consider top 10000 words in the dataset\n",
        "t = Tokenizer(num_words=10000)"
      ],
      "execution_count": null,
      "outputs": []
    },
    {
      "metadata": {
        "id": "A1n7lsgxtHm6"
      },
      "cell_type": "code",
      "source": [
        "#t.texts_to_sequences(list_of_tweets)"
      ],
      "execution_count": null,
      "outputs": []
    },
    {
      "metadata": {
        "id": "1xH7BFjQuJLK"
      },
      "cell_type": "code",
      "source": [
        "t.fit_on_texts(list_of_tweets)\n",
        "\n",
        "#Source: https://machinelearningmastery.com/prepare-text-data-deep-learning-keras/"
      ],
      "execution_count": null,
      "outputs": []
    },
    {
      "metadata": {
        "id": "aDiKsnTCuf6y"
      },
      "cell_type": "code",
      "source": [
        "encoded_tweets = t.texts_to_sequences(list_of_tweets)"
      ],
      "execution_count": null,
      "outputs": []
    },
    {
      "metadata": {
        "id": "URtv6rz_uv4q"
      },
      "cell_type": "code",
      "source": [
        "#len(encoded_tweets)\n",
        "#type(encoded_tweets)\n",
        "encoded_tweets[3]"
      ],
      "execution_count": null,
      "outputs": []
    },
    {
      "metadata": {
        "id": "RWKgd5pco-ym"
      },
      "cell_type": "markdown",
      "source": [
        "3\\. Use `pad_sequences` from `keras.preprocessing.sequence` to pad each sequence with zeros to **make the sequence length 120**."
      ]
    },
    {
      "metadata": {
        "id": "2ccMJG9mo-yn"
      },
      "cell_type": "code",
      "source": [
        "# your code here\n",
        "from keras.preprocessing.sequence import pad_sequences\n",
        "\n",
        "x_train = pad_sequences(encoded_tweets, maxlen=120)"
      ],
      "execution_count": null,
      "outputs": []
    },
    {
      "metadata": {
        "id": "mQekpb4WzAwU",
        "outputId": "e64c3b2a-add1-4e2f-a61e-58a40f83e20b",
        "colab": {
          "base_uri": "https://localhost:8080/",
          "height": 34
        }
      },
      "cell_type": "code",
      "source": [
        "x_train.shape[0]"
      ],
      "execution_count": null,
      "outputs": [
        {
          "output_type": "execute_result",
          "data": {
            "text/plain": [
              "5000"
            ]
          },
          "metadata": {
            "tags": []
          },
          "execution_count": 18
        }
      ]
    },
    {
      "metadata": {
        "id": "qpxpsbWko-yq"
      },
      "cell_type": "markdown",
      "source": [
        "###  Simple RNN\n",
        "\n",
        "Goal: Build a simple RNN model with the following specification:\n",
        "1. An embedding layer with output dimenstion 64.\n",
        "2. A simple RNN layer.\n",
        "3. A dense layer with sigmoid activation function for prediction."
      ]
    },
    {
      "metadata": {
        "id": "x1Fsu441o-yr"
      },
      "cell_type": "code",
      "source": [
        "from keras.models import Sequential\n",
        "from keras.layers import Embedding, LSTM, Dense, SimpleRNN"
      ],
      "execution_count": null,
      "outputs": []
    },
    {
      "metadata": {
        "id": "OVrOjcCppbTn",
        "outputId": "baf42463-a8bb-41c2-adee-0ee6fe34169b",
        "colab": {
          "base_uri": "https://localhost:8080/",
          "height": 241
        }
      },
      "cell_type": "code",
      "source": [
        "#simple rnn model\n",
        "rnn_model = Sequential()\n",
        "rnn_model.add(Embedding(10000, 64, input_length=120))\n",
        "rnn_model.add(SimpleRNN(64))\n",
        "rnn_model.add(Dense(1, activation='sigmoid'))\n",
        "rnn_model.summary()"
      ],
      "execution_count": null,
      "outputs": [
        {
          "output_type": "stream",
          "text": [
            "_________________________________________________________________\n",
            "Layer (type)                 Output Shape              Param #   \n",
            "=================================================================\n",
            "embedding_1 (Embedding)      (None, 120, 64)           640000    \n",
            "_________________________________________________________________\n",
            "simple_rnn_1 (SimpleRNN)     (None, 64)                8256      \n",
            "_________________________________________________________________\n",
            "dense_1 (Dense)              (None, 1)                 65        \n",
            "=================================================================\n",
            "Total params: 648,321\n",
            "Trainable params: 648,321\n",
            "Non-trainable params: 0\n",
            "_________________________________________________________________\n"
          ],
          "name": "stdout"
        }
      ]
    },
    {
      "metadata": {
        "id": "c5ML_Xhco-yu"
      },
      "cell_type": "markdown",
      "source": [
        "ii) Train the simple RNN model:\n",
        "\n",
        "1\\. Compile the model with binary cross entory as loss and accuracy as evaluation metrics."
      ]
    },
    {
      "metadata": {
        "id": "C1ROEVhgo-yv"
      },
      "cell_type": "code",
      "source": [
        "# compile model\n",
        "\n",
        "rnn_model.compile(optimizer='rmsprop',\n",
        "                           loss='binary_crossentropy',\n",
        "                           metrics=['accuracy'])"
      ],
      "execution_count": null,
      "outputs": []
    },
    {
      "metadata": {
        "id": "znD2Yotdo-yz"
      },
      "cell_type": "markdown",
      "source": [
        "2\\. Fit the model with the training set with 5 epochs (using 20% of the data as validation)"
      ]
    },
    {
      "metadata": {
        "id": "3qtBgNY0o-y1",
        "outputId": "add32e00-f543-4006-d9a3-7af28ea315f7",
        "colab": {
          "base_uri": "https://localhost:8080/",
          "height": 206
        }
      },
      "cell_type": "code",
      "source": [
        "## train model\n",
        "\n",
        "history = rnn_model.fit(x_train,\n",
        "                       train_labels[:5000],\n",
        "                       validation_split=0.2,\n",
        "                       epochs=5,\n",
        "                       batch_size=512)"
      ],
      "execution_count": null,
      "outputs": [
        {
          "output_type": "stream",
          "text": [
            "Train on 4000 samples, validate on 1000 samples\n",
            "Epoch 1/5\n",
            "4000/4000 [==============================] - 3s 695us/step - loss: 0.5855 - acc: 0.6240 - val_loss: 0.6342 - val_acc: 0.6540\n",
            "Epoch 2/5\n",
            "4000/4000 [==============================] - 3s 745us/step - loss: 0.3788 - acc: 0.9627 - val_loss: 0.6238 - val_acc: 0.6630\n",
            "Epoch 3/5\n",
            "4000/4000 [==============================] - 3s 702us/step - loss: 0.2826 - acc: 0.9710 - val_loss: 0.8073 - val_acc: 0.5110\n",
            "Epoch 4/5\n",
            "4000/4000 [==============================] - 3s 704us/step - loss: 0.1931 - acc: 0.9692 - val_loss: 0.6237 - val_acc: 0.6730\n",
            "Epoch 5/5\n",
            "4000/4000 [==============================] - 3s 688us/step - loss: 0.1397 - acc: 0.9895 - val_loss: 0.6338 - val_acc: 0.6620\n"
          ],
          "name": "stdout"
        }
      ]
    },
    {
      "metadata": {
        "id": "_jL3odC9o-y4"
      },
      "cell_type": "markdown",
      "source": [
        "3\\. Plot the training and validation accuracy across epochs."
      ]
    },
    {
      "metadata": {
        "id": "6PoJk2lIo-y5",
        "outputId": "a539c82c-5b3f-40f3-f0f9-c49e92c12a26",
        "colab": {
          "base_uri": "https://localhost:8080/",
          "height": 280
        }
      },
      "cell_type": "code",
      "source": [
        "#plot the accuracy rates for each epoch on training and validation data\n",
        "acc = history.history['acc']\n",
        "val_acc = history.history['val_acc']\n",
        "epochs = range(1, len(acc) + 1)\n",
        "plt.plot(epochs, acc, 'bo', label='Training acc')\n",
        "plt.plot(epochs, val_acc, 'b', label='Validation acc')\n",
        "plt.title('Training and validation accuracy')\n",
        "plt.legend()\n",
        "plt.show()"
      ],
      "execution_count": null,
      "outputs": [
        {
          "output_type": "display_data",
          "data": {
            "image/png": "[encoded data removed]",
            "text/plain": [
              "<Figure size 432x288 with 1 Axes>"
            ]
          },
          "metadata": {
            "tags": []
          }
        }
      ]
    },
    {
      "metadata": {
        "id": "T06pdhIbo-y9"
      },
      "cell_type": "markdown",
      "source": [
        "### LSTM"
      ]
    },
    {
      "metadata": {
        "id": "1rFGycV2o-y-"
      },
      "cell_type": "markdown",
      "source": [
        "i) Build LSTM model by replacing the simple RNN layter in the above model with a LSTM layer"
      ]
    },
    {
      "metadata": {
        "id": "kSNWRcPFo-zA",
        "outputId": "bbaeec86-17e7-4d4c-c3ca-b38381709542",
        "colab": {
          "base_uri": "https://localhost:8080/",
          "height": 241
        }
      },
      "cell_type": "code",
      "source": [
        "#LSTM model\n",
        "lstm_model = Sequential()\n",
        "lstm_model.add(Embedding(10000, 64, input_length=120))\n",
        "lstm_model.add(LSTM(64))\n",
        "lstm_model.add(Dense(1, activation='sigmoid'))\n",
        "lstm_model.summary()"
      ],
      "execution_count": null,
      "outputs": [
        {
          "output_type": "stream",
          "text": [
            "_________________________________________________________________\n",
            "Layer (type)                 Output Shape              Param #   \n",
            "=================================================================\n",
            "embedding_2 (Embedding)      (None, 120, 64)           640000    \n",
            "_________________________________________________________________\n",
            "lstm_1 (LSTM)                (None, 64)                33024     \n",
            "_________________________________________________________________\n",
            "dense_2 (Dense)              (None, 1)                 65        \n",
            "=================================================================\n",
            "Total params: 673,089\n",
            "Trainable params: 673,089\n",
            "Non-trainable params: 0\n",
            "_________________________________________________________________\n"
          ],
          "name": "stdout"
        }
      ]
    },
    {
      "metadata": {
        "id": "6hTg_gF5o-zD"
      },
      "cell_type": "markdown",
      "source": [
        "ii) Train the LSTM model with the same specifications in the simple RNN model. Plot the training and validation accuracy across epochs."
      ]
    },
    {
      "metadata": {
        "id": "IH2im9m8o-zE",
        "outputId": "30b5090b-90cc-4a8a-cf5d-aed698df860c",
        "colab": {
          "base_uri": "https://localhost:8080/",
          "height": 206
        }
      },
      "cell_type": "code",
      "source": [
        "#comple and train model\n",
        "lstm_model.compile(optimizer='rmsprop',\n",
        "                           loss='binary_crossentropy',\n",
        "                           metrics=['accuracy'])\n",
        "\n",
        "history = lstm_model.fit(x_train,\n",
        "                       train_labels[:5000],\n",
        "                       validation_split=0.2,\n",
        "                       epochs=5,\n",
        "                       batch_size=512)"
      ],
      "execution_count": null,
      "outputs": [
        {
          "output_type": "stream",
          "text": [
            "Train on 4000 samples, validate on 1000 samples\n",
            "Epoch 1/5\n",
            "4000/4000 [==============================] - 9s 2ms/step - loss: 0.6905 - acc: 0.5362 - val_loss: 0.6792 - val_acc: 0.6060\n",
            "Epoch 2/5\n",
            "4000/4000 [==============================] - 8s 2ms/step - loss: 0.6574 - acc: 0.6630 - val_loss: 0.6423 - val_acc: 0.6910\n",
            "Epoch 3/5\n",
            "4000/4000 [==============================] - 8s 2ms/step - loss: 0.5859 - acc: 0.7485 - val_loss: 0.6065 - val_acc: 0.6460\n",
            "Epoch 4/5\n",
            "4000/4000 [==============================] - 8s 2ms/step - loss: 0.5115 - acc: 0.7950 - val_loss: 0.5787 - val_acc: 0.6950\n",
            "Epoch 5/5\n",
            "4000/4000 [==============================] - 8s 2ms/step - loss: 0.4240 - acc: 0.8432 - val_loss: 0.5802 - val_acc: 0.6730\n"
          ],
          "name": "stdout"
        }
      ]
    },
    {
      "metadata": {
        "id": "DfL5Y3uU0gAJ",
        "outputId": "1877f667-e2fd-4725-fa25-8ce55e5e5f3e",
        "colab": {
          "base_uri": "https://localhost:8080/",
          "height": 280
        }
      },
      "cell_type": "code",
      "source": [
        "#plot the accuracy rates for each epoch on training and validation data\n",
        "acc = history.history['acc']\n",
        "val_acc = history.history['val_acc']\n",
        "epochs = range(1, len(acc) + 1)\n",
        "plt.plot(epochs, acc, 'bo', label='Training acc')\n",
        "plt.plot(epochs, val_acc, 'b', label='Validation acc')\n",
        "plt.title('Training and validation accuracy')\n",
        "plt.legend()\n",
        "plt.show()"
      ],
      "execution_count": null,
      "outputs": [
        {
          "output_type": "display_data",
          "data": {
            "image/png": "[encoded data removed]",
            "text/plain": [
              "<Figure size 432x288 with 1 Axes>"
            ]
          },
          "metadata": {
            "tags": []
          }
        }
      ]
    },
    {
      "metadata": {
        "id": "NJfMVG5Io-zG"
      },
      "cell_type": "markdown",
      "source": [
        "### Evaluation on test data"
      ]
    },
    {
      "cell_type": "code",
      "source": [
        "# evalaute RNN and LSTM models on test data"
      ],
      "metadata": {
        "id": "BTsolZAOWZhj"
      },
      "execution_count": null,
      "outputs": []
    },
    {
      "metadata": {
        "id": "5jkRpFUqo-zJ",
        "outputId": "a4077753-8b25-4d7e-deb7-ac25c933a450",
        "colab": {
          "base_uri": "https://localhost:8080/",
          "height": 141
        }
      },
      "cell_type": "code",
      "source": [
        "df2 = pd.read_csv('/content/drive/My Drive/95865 Unstructured Data Analytics/HW3/HW3-data/test.csv', sep=\",\", header=None, encoding='iso8859')\n",
        "df2.head(n=3)\n"
      ],
      "execution_count": null,
      "outputs": [
        {
          "output_type": "execute_result",
          "data": {
            "text/html": [
              "<div>\n",
              "<style scoped>\n",
              "    .dataframe tbody tr th:only-of-type {\n",
              "        vertical-align: middle;\n",
              "    }\n",
              "\n",
              "    .dataframe tbody tr th {\n",
              "        vertical-align: top;\n",
              "    }\n",
              "\n",
              "    .dataframe thead th {\n",
              "        text-align: right;\n",
              "    }\n",
              "</style>\n",
              "<table border=\"1\" class=\"dataframe\">\n",
              "  <thead>\n",
              "    <tr style=\"text-align: right;\">\n",
              "      <th></th>\n",
              "      <th>0</th>\n",
              "      <th>1</th>\n",
              "      <th>2</th>\n",
              "      <th>3</th>\n",
              "      <th>4</th>\n",
              "      <th>5</th>\n",
              "    </tr>\n",
              "  </thead>\n",
              "  <tbody>\n",
              "    <tr>\n",
              "      <th>0</th>\n",
              "      <td>1</td>\n",
              "      <td>3</td>\n",
              "      <td>Mon May 11 03:17:40 UTC 2009</td>\n",
              "      <td>kindle2</td>\n",
              "      <td>tpryan</td>\n",
              "      <td>@stellargirl I loooooooovvvvvveee my Kindle2. ...</td>\n",
              "    </tr>\n",
              "    <tr>\n",
              "      <th>1</th>\n",
              "      <td>1</td>\n",
              "      <td>4</td>\n",
              "      <td>Mon May 11 03:18:03 UTC 2009</td>\n",
              "      <td>kindle2</td>\n",
              "      <td>vcu451</td>\n",
              "      <td>Reading my kindle2...  Love it... Lee childs i...</td>\n",
              "    </tr>\n",
              "    <tr>\n",
              "      <th>2</th>\n",
              "      <td>1</td>\n",
              "      <td>5</td>\n",
              "      <td>Mon May 11 03:18:54 UTC 2009</td>\n",
              "      <td>kindle2</td>\n",
              "      <td>chadfu</td>\n",
              "      <td>Ok, first assesment of the #kindle2 ...it fuck...</td>\n",
              "    </tr>\n",
              "  </tbody>\n",
              "</table>\n",
              "</div>"
            ],
            "text/plain": [
              "   0  1                             2        3       4  \\\n",
              "0  1  3  Mon May 11 03:17:40 UTC 2009  kindle2  tpryan   \n",
              "1  1  4  Mon May 11 03:18:03 UTC 2009  kindle2  vcu451   \n",
              "2  1  5  Mon May 11 03:18:54 UTC 2009  kindle2  chadfu   \n",
              "\n",
              "                                                   5  \n",
              "0  @stellargirl I loooooooovvvvvveee my Kindle2. ...  \n",
              "1  Reading my kindle2...  Love it... Lee childs i...  \n",
              "2  Ok, first assesment of the #kindle2 ...it fuck...  "
            ]
          },
          "metadata": {
            "tags": []
          },
          "execution_count": 29
        }
      ]
    },
    {
      "metadata": {
        "id": "v-xPi_uSBIXW"
      },
      "cell_type": "code",
      "source": [
        "test_labels = df2[0].tolist()\n",
        "\n",
        "test_tweets = df2[5].tolist()"
      ],
      "execution_count": null,
      "outputs": []
    },
    {
      "metadata": {
        "id": "gx-qTYw0BKjH"
      },
      "cell_type": "code",
      "source": [
        "test_tweets_sequences = t.texts_to_sequences(test_tweets)"
      ],
      "execution_count": null,
      "outputs": []
    },
    {
      "metadata": {
        "id": "hb6lrBC2BWpI"
      },
      "cell_type": "code",
      "source": [
        "x_test = pad_sequences(test_tweets_sequences, maxlen=120)"
      ],
      "execution_count": null,
      "outputs": []
    },
    {
      "metadata": {
        "id": "8jqkLW-tCD-E",
        "outputId": "4865d8d2-d59e-48a5-bd70-d0bb46dcfaeb",
        "colab": {
          "base_uri": "https://localhost:8080/",
          "height": 51
        }
      },
      "cell_type": "code",
      "source": [
        "# Evaluate performance on test data\n",
        "\n",
        "test_loss, test_acc = rnn_model.evaluate(x_test, test_labels)\n",
        "print('Simple RNN Test accuracy:', test_acc)\n",
        "\n"
      ],
      "execution_count": null,
      "outputs": [
        {
          "output_type": "stream",
          "text": [
            "498/498 [==============================] - 0s 368us/step\n",
            "Simple RNN Test accuracy: 0.5542168681880077\n"
          ],
          "name": "stdout"
        }
      ]
    },
    {
      "metadata": {
        "id": "VZWOhy8wDmwP",
        "outputId": "75264af2-eb03-43bd-a46c-04f0d811f344",
        "colab": {
          "base_uri": "https://localhost:8080/",
          "height": 51
        }
      },
      "cell_type": "code",
      "source": [
        "\n",
        "test_loss, test_acc = lstm_model.evaluate(x_test, test_labels)\n",
        "print('LSTM Test accuracy:', test_acc)\n"
      ],
      "execution_count": null,
      "outputs": [
        {
          "output_type": "stream",
          "text": [
            "498/498 [==============================] - 0s 599us/step\n",
            "LSTM Test accuracy: 0.5963855428868029\n"
          ],
          "name": "stdout"
        }
      ]
    },
    {
      "metadata": {
        "id": "-E-8XiPko-zN"
      },
      "cell_type": "markdown",
      "source": [
        "ii) Train with entire dataset instead of onlythe top 5000 tweets. Now train the LSTM-based model using the whole training dataset."
      ]
    },
    {
      "metadata": {
        "id": "9spUl-J1o-zP"
      },
      "cell_type": "code",
      "source": [
        "\n",
        "x_train = df[5].tolist()\n",
        "\n",
        "train_labels = df[0].tolist()"
      ],
      "execution_count": null,
      "outputs": []
    },
    {
      "metadata": {
        "id": "8aUAYpxjIQhA"
      },
      "cell_type": "code",
      "source": [
        "t.fit_on_texts(x_train)\n",
        "encoded_x = t.texts_to_sequences(x_train)\n",
        "\n",
        "X_train = pad_sequences(encoded_x, maxlen=120)"
      ],
      "execution_count": null,
      "outputs": []
    },
    {
      "metadata": {
        "id": "eHfYMrmpIYCz",
        "outputId": "41f0e93f-0363-4be6-d2eb-bd14e1c2a130",
        "colab": {
          "base_uri": "https://localhost:8080/",
          "height": 241
        }
      },
      "cell_type": "code",
      "source": [
        "%%time\n",
        "\n",
        "history = lstm_model.fit(X_train,\n",
        "                       train_labels,\n",
        "                       validation_split=0.2,\n",
        "                       epochs=5,\n",
        "                       batch_size=512)"
      ],
      "execution_count": null,
      "outputs": [
        {
          "output_type": "stream",
          "text": [
            "Train on 1280000 samples, validate on 320000 samples\n",
            "Epoch 1/5\n",
            "1280000/1280000 [==============================] - 661s 516us/step - loss: 0.4103 - acc: 0.8122 - val_loss: 0.4019 - val_acc: 0.8161\n",
            "Epoch 2/5\n",
            "1280000/1280000 [==============================] - 662s 517us/step - loss: 0.3892 - acc: 0.8241 - val_loss: 0.3912 - val_acc: 0.8228\n",
            "Epoch 3/5\n",
            "1280000/1280000 [==============================] - 663s 518us/step - loss: 0.3796 - acc: 0.8291 - val_loss: 0.3873 - val_acc: 0.8249\n",
            "Epoch 4/5\n",
            "1280000/1280000 [==============================] - 662s 517us/step - loss: 0.3721 - acc: 0.8334 - val_loss: 0.3830 - val_acc: 0.8274\n",
            "Epoch 5/5\n",
            "1280000/1280000 [==============================] - 663s 518us/step - loss: 0.3656 - acc: 0.8371 - val_loss: 0.3810 - val_acc: 0.8286\n",
            "CPU times: user 1h 11min 19s, sys: 7min 43s, total: 1h 19min 3s\n",
            "Wall time: 55min 10s\n"
          ],
          "name": "stdout"
        }
      ]
    },
    {
      "metadata": {
        "id": "XfMimpqcIc4S",
        "outputId": "b4e20111-af69-4127-c02b-8f7bd42fbf15",
        "colab": {
          "base_uri": "https://localhost:8080/",
          "height": 280
        }
      },
      "cell_type": "code",
      "source": [
        "#plot the accuracy rates for each epoch on training and validation data\n",
        "acc = history.history['acc']\n",
        "val_acc = history.history['val_acc']\n",
        "epochs = range(1, len(acc) + 1)\n",
        "plt.plot(epochs, acc, 'ro', label='Training acc')\n",
        "plt.plot(epochs, val_acc, 'r', label='Validation acc')\n",
        "plt.title('Training and validation accuracy')\n",
        "plt.legend()\n",
        "plt.show()\n"
      ],
      "execution_count": null,
      "outputs": [
        {
          "output_type": "display_data",
          "data": {
            "image/png": "[encoded data removed]",
            "text/plain": [
              "<Figure size 432x288 with 1 Axes>"
            ]
          },
          "metadata": {
            "tags": []
          }
        }
      ]
    },
    {
      "metadata": {
        "id": "cJVQlJF6If5G",
        "outputId": "2c6a70e4-cb6d-4b72-b73c-09879da819f8",
        "colab": {
          "base_uri": "https://localhost:8080/",
          "height": 51
        }
      },
      "cell_type": "code",
      "source": [
        "test_loss, test_acc = lstm_model.evaluate(x_test, test_labels)\n",
        "print('LSTM Test accuracy:', test_acc)\n"
      ],
      "execution_count": null,
      "outputs": [
        {
          "output_type": "stream",
          "text": [
            "498/498 [==============================] - 1s 3ms/step\n",
            "LSTM Test accuracy: 0.5180722891566265\n"
          ],
          "name": "stdout"
        }
      ]
    },
    {
      "metadata": {
        "id": "YD6B5Ka8rfTS"
      },
      "cell_type": "markdown",
      "source": [
        "Test set accuracy (full data set): **51.8%**\n",
        "\n",
        "Test set accuracy (500 tweets): **0.52%**"
      ]
    }
  ]
}